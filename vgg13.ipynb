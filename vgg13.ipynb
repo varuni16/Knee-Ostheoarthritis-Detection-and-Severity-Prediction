{
 "cells": [
  {
   "cell_type": "code",
   "execution_count": 60,
   "metadata": {
    "_cell_guid": "b1076dfc-b9ad-4769-8c92-a6c4dae69d19",
    "_uuid": "8f2839f25d086af736a60e9eeb907d3b93b6e0e5",
    "execution": {
     "iopub.execute_input": "2022-11-12T04:50:22.155409Z",
     "iopub.status.busy": "2022-11-12T04:50:22.154725Z",
     "iopub.status.idle": "2022-11-12T04:50:22.603785Z",
     "shell.execute_reply": "2022-11-12T04:50:22.602732Z",
     "shell.execute_reply.started": "2022-11-12T04:50:22.155365Z"
    },
    "trusted": true
   },
   "outputs": [],
   "source": [
    "\n",
    "import numpy as np # linear algebra\n",
    "import pandas as pd # data processing, CSV file I/O (e.g. pd.read_csv)\n",
    "\n",
    "\n",
    "import os\n",
    "for dirname, _, filenames in os.walk('/kaggle/input'):\n",
    "    for filename in filenames:\n",
    "        print(os.path.join(dirname, filename))\n",
    "\n",
    "# You can write up to 20GB to the current directory (/kaggle/working/) that gets preserved as output when you create a version using \"Save & Run All\" \n",
    "# You can also write temporary files to /kaggle/temp/, but they won't be saved outside of the current session"
   ]
  },
  {
   "cell_type": "code",
   "execution_count": 61,
   "metadata": {
    "execution": {
     "iopub.execute_input": "2022-11-12T04:50:23.501397Z",
     "iopub.status.busy": "2022-11-12T04:50:23.500923Z",
     "iopub.status.idle": "2022-11-12T04:50:23.507945Z",
     "shell.execute_reply": "2022-11-12T04:50:23.506883Z",
     "shell.execute_reply.started": "2022-11-12T04:50:23.501357Z"
    },
    "trusted": true
   },
   "outputs": [
    {
     "name": "stderr",
     "output_type": "stream",
     "text": [
      "C:\\Users\\bhavr\\AppData\\Local\\Temp\\ipykernel_30396\\2996025560.py:14: DeprecationWarning: Importing display from IPython.core.display is deprecated since IPython 7.14, please import from IPython display\n",
      "  from IPython.core.display import display, HTML\n"
     ]
    }
   ],
   "source": [
    "import numpy as np\n",
    "import pandas as pd\n",
    "import shutil\n",
    "import cv2\n",
    "from tqdm import tqdm\n",
    "from sklearn.model_selection import train_test_split\n",
    "import matplotlib.pyplot as plt\n",
    "from matplotlib.pyplot import imshow\n",
    "import os\n",
    "import seaborn as sns\n",
    "sns.set_style('darkgrid')\n",
    "from PIL import Image\n",
    "from sklearn.metrics import confusion_matrix, classification_report\n",
    "from IPython.core.display import display, HTML"
   ]
  },
  {
   "cell_type": "code",
   "execution_count": 62,
   "metadata": {
    "execution": {
     "iopub.execute_input": "2022-11-12T04:50:23.510945Z",
     "iopub.status.busy": "2022-11-12T04:50:23.509466Z",
     "iopub.status.idle": "2022-11-12T04:50:23.520208Z",
     "shell.execute_reply": "2022-11-12T04:50:23.519245Z",
     "shell.execute_reply.started": "2022-11-12T04:50:23.510909Z"
    },
    "trusted": true
   },
   "outputs": [],
   "source": [
    "train_path = 'C:/Users/bhavr/Downloads/KOA/train/'\n",
    "val_path = 'C:/Users/bhavr/Downloads/KOA/val/'\n",
    "test_path = 'C:/Users/bhavr/Downloads/KOA/test/'"
   ]
  },
  {
   "cell_type": "code",
   "execution_count": 63,
   "metadata": {
    "execution": {
     "iopub.execute_input": "2022-11-12T04:50:24.119419Z",
     "iopub.status.busy": "2022-11-12T04:50:24.119059Z",
     "iopub.status.idle": "2022-11-12T04:50:24.127550Z",
     "shell.execute_reply": "2022-11-12T04:50:24.126526Z",
     "shell.execute_reply.started": "2022-11-12T04:50:24.119389Z"
    },
    "trusted": true
   },
   "outputs": [],
   "source": [
    "def createMetaData(path):\n",
    "    grades = ['0/','1/','2/','3/','4/']\n",
    "    finalData = []\n",
    "    finalLabels = []\n",
    "    for i in range(len(grades)):\n",
    "        dir_join = path+grades[i]\n",
    "        for file in os.listdir(dir_join):\n",
    "            finalData.append(dir_join+file)\n",
    "          #for three classes\n",
    "            if (i==0):\n",
    "              finalLabels.append(0)\n",
    "            elif (i==1 or i==2):\n",
    "              finalLabels.append(1)\n",
    "            else:\n",
    "              finalLabels.append(2)\n",
    "            #finalLabels.append(i)\n",
    "    dat = {'path':finalData,'label':finalLabels}\n",
    "    return pd.DataFrame.from_dict(dat)"
   ]
  },
  {
   "cell_type": "code",
   "execution_count": 64,
   "metadata": {
    "execution": {
     "iopub.execute_input": "2022-11-12T04:50:26.779301Z",
     "iopub.status.busy": "2022-11-12T04:50:26.778636Z",
     "iopub.status.idle": "2022-11-12T04:50:26.817993Z",
     "shell.execute_reply": "2022-11-12T04:50:26.816901Z",
     "shell.execute_reply.started": "2022-11-12T04:50:26.779233Z"
    },
    "trusted": true
   },
   "outputs": [
    {
     "data": {
      "text/html": [
       "<div>\n",
       "<style scoped>\n",
       "    .dataframe tbody tr th:only-of-type {\n",
       "        vertical-align: middle;\n",
       "    }\n",
       "\n",
       "    .dataframe tbody tr th {\n",
       "        vertical-align: top;\n",
       "    }\n",
       "\n",
       "    .dataframe thead th {\n",
       "        text-align: right;\n",
       "    }\n",
       "</style>\n",
       "<table border=\"1\" class=\"dataframe\">\n",
       "  <thead>\n",
       "    <tr style=\"text-align: right;\">\n",
       "      <th></th>\n",
       "      <th>path</th>\n",
       "      <th>label</th>\n",
       "    </tr>\n",
       "  </thead>\n",
       "  <tbody>\n",
       "    <tr>\n",
       "      <th>0</th>\n",
       "      <td>C:/Users/bhavr/Downloads/KOA/train/0/9001695L.png</td>\n",
       "      <td>0</td>\n",
       "    </tr>\n",
       "    <tr>\n",
       "      <th>1</th>\n",
       "      <td>C:/Users/bhavr/Downloads/KOA/train/0/9001897L.png</td>\n",
       "      <td>0</td>\n",
       "    </tr>\n",
       "    <tr>\n",
       "      <th>2</th>\n",
       "      <td>C:/Users/bhavr/Downloads/KOA/train/0/9003126L.png</td>\n",
       "      <td>0</td>\n",
       "    </tr>\n",
       "    <tr>\n",
       "      <th>3</th>\n",
       "      <td>C:/Users/bhavr/Downloads/KOA/train/0/9003126R.png</td>\n",
       "      <td>0</td>\n",
       "    </tr>\n",
       "    <tr>\n",
       "      <th>4</th>\n",
       "      <td>C:/Users/bhavr/Downloads/KOA/train/0/9003430L.png</td>\n",
       "      <td>0</td>\n",
       "    </tr>\n",
       "  </tbody>\n",
       "</table>\n",
       "</div>"
      ],
      "text/plain": [
       "                                                path  label\n",
       "0  C:/Users/bhavr/Downloads/KOA/train/0/9001695L.png      0\n",
       "1  C:/Users/bhavr/Downloads/KOA/train/0/9001897L.png      0\n",
       "2  C:/Users/bhavr/Downloads/KOA/train/0/9003126L.png      0\n",
       "3  C:/Users/bhavr/Downloads/KOA/train/0/9003126R.png      0\n",
       "4  C:/Users/bhavr/Downloads/KOA/train/0/9003430L.png      0"
      ]
     },
     "execution_count": 64,
     "metadata": {},
     "output_type": "execute_result"
    }
   ],
   "source": [
    "train_data = createMetaData(train_path)\n",
    "train_data.head()"
   ]
  },
  {
   "cell_type": "code",
   "execution_count": 65,
   "metadata": {
    "execution": {
     "iopub.execute_input": "2022-11-12T04:50:29.087335Z",
     "iopub.status.busy": "2022-11-12T04:50:29.086953Z",
     "iopub.status.idle": "2022-11-12T04:50:29.101129Z",
     "shell.execute_reply": "2022-11-12T04:50:29.100048Z",
     "shell.execute_reply.started": "2022-11-12T04:50:29.087305Z"
    },
    "trusted": true
   },
   "outputs": [
    {
     "data": {
      "text/html": [
       "<div>\n",
       "<style scoped>\n",
       "    .dataframe tbody tr th:only-of-type {\n",
       "        vertical-align: middle;\n",
       "    }\n",
       "\n",
       "    .dataframe tbody tr th {\n",
       "        vertical-align: top;\n",
       "    }\n",
       "\n",
       "    .dataframe thead th {\n",
       "        text-align: right;\n",
       "    }\n",
       "</style>\n",
       "<table border=\"1\" class=\"dataframe\">\n",
       "  <thead>\n",
       "    <tr style=\"text-align: right;\">\n",
       "      <th></th>\n",
       "      <th>path</th>\n",
       "      <th>label</th>\n",
       "    </tr>\n",
       "  </thead>\n",
       "  <tbody>\n",
       "    <tr>\n",
       "      <th>0</th>\n",
       "      <td>C:/Users/bhavr/Downloads/KOA/val/0/9006140L.png</td>\n",
       "      <td>0</td>\n",
       "    </tr>\n",
       "    <tr>\n",
       "      <th>1</th>\n",
       "      <td>C:/Users/bhavr/Downloads/KOA/val/0/9006140R.png</td>\n",
       "      <td>0</td>\n",
       "    </tr>\n",
       "    <tr>\n",
       "      <th>2</th>\n",
       "      <td>C:/Users/bhavr/Downloads/KOA/val/0/9009067L.png</td>\n",
       "      <td>0</td>\n",
       "    </tr>\n",
       "    <tr>\n",
       "      <th>3</th>\n",
       "      <td>C:/Users/bhavr/Downloads/KOA/val/0/9009067R.png</td>\n",
       "      <td>0</td>\n",
       "    </tr>\n",
       "    <tr>\n",
       "      <th>4</th>\n",
       "      <td>C:/Users/bhavr/Downloads/KOA/val/0/9015402L.png</td>\n",
       "      <td>0</td>\n",
       "    </tr>\n",
       "  </tbody>\n",
       "</table>\n",
       "</div>"
      ],
      "text/plain": [
       "                                              path  label\n",
       "0  C:/Users/bhavr/Downloads/KOA/val/0/9006140L.png      0\n",
       "1  C:/Users/bhavr/Downloads/KOA/val/0/9006140R.png      0\n",
       "2  C:/Users/bhavr/Downloads/KOA/val/0/9009067L.png      0\n",
       "3  C:/Users/bhavr/Downloads/KOA/val/0/9009067R.png      0\n",
       "4  C:/Users/bhavr/Downloads/KOA/val/0/9015402L.png      0"
      ]
     },
     "execution_count": 65,
     "metadata": {},
     "output_type": "execute_result"
    }
   ],
   "source": [
    "val_data = createMetaData(val_path)\n",
    "val_data.head()"
   ]
  },
  {
   "cell_type": "code",
   "execution_count": 66,
   "metadata": {
    "execution": {
     "iopub.execute_input": "2022-11-12T04:50:32.621035Z",
     "iopub.status.busy": "2022-11-12T04:50:32.620640Z",
     "iopub.status.idle": "2022-11-12T04:50:32.637229Z",
     "shell.execute_reply": "2022-11-12T04:50:32.636342Z",
     "shell.execute_reply.started": "2022-11-12T04:50:32.621004Z"
    },
    "trusted": true
   },
   "outputs": [
    {
     "data": {
      "text/html": [
       "<div>\n",
       "<style scoped>\n",
       "    .dataframe tbody tr th:only-of-type {\n",
       "        vertical-align: middle;\n",
       "    }\n",
       "\n",
       "    .dataframe tbody tr th {\n",
       "        vertical-align: top;\n",
       "    }\n",
       "\n",
       "    .dataframe thead th {\n",
       "        text-align: right;\n",
       "    }\n",
       "</style>\n",
       "<table border=\"1\" class=\"dataframe\">\n",
       "  <thead>\n",
       "    <tr style=\"text-align: right;\">\n",
       "      <th></th>\n",
       "      <th>path</th>\n",
       "      <th>label</th>\n",
       "    </tr>\n",
       "  </thead>\n",
       "  <tbody>\n",
       "    <tr>\n",
       "      <th>0</th>\n",
       "      <td>C:/Users/bhavr/Downloads/KOA/test/0/9003175L.png</td>\n",
       "      <td>0</td>\n",
       "    </tr>\n",
       "    <tr>\n",
       "      <th>1</th>\n",
       "      <td>C:/Users/bhavr/Downloads/KOA/test/0/9003175R.png</td>\n",
       "      <td>0</td>\n",
       "    </tr>\n",
       "    <tr>\n",
       "      <th>2</th>\n",
       "      <td>C:/Users/bhavr/Downloads/KOA/test/0/9003316L.png</td>\n",
       "      <td>0</td>\n",
       "    </tr>\n",
       "    <tr>\n",
       "      <th>3</th>\n",
       "      <td>C:/Users/bhavr/Downloads/KOA/test/0/9003815L.png</td>\n",
       "      <td>0</td>\n",
       "    </tr>\n",
       "    <tr>\n",
       "      <th>4</th>\n",
       "      <td>C:/Users/bhavr/Downloads/KOA/test/0/9003815R.png</td>\n",
       "      <td>0</td>\n",
       "    </tr>\n",
       "  </tbody>\n",
       "</table>\n",
       "</div>"
      ],
      "text/plain": [
       "                                               path  label\n",
       "0  C:/Users/bhavr/Downloads/KOA/test/0/9003175L.png      0\n",
       "1  C:/Users/bhavr/Downloads/KOA/test/0/9003175R.png      0\n",
       "2  C:/Users/bhavr/Downloads/KOA/test/0/9003316L.png      0\n",
       "3  C:/Users/bhavr/Downloads/KOA/test/0/9003815L.png      0\n",
       "4  C:/Users/bhavr/Downloads/KOA/test/0/9003815R.png      0"
      ]
     },
     "execution_count": 66,
     "metadata": {},
     "output_type": "execute_result"
    }
   ],
   "source": [
    "test_data = createMetaData(test_path)\n",
    "test_data.head()"
   ]
  },
  {
   "cell_type": "code",
   "execution_count": 67,
   "metadata": {
    "execution": {
     "iopub.execute_input": "2022-11-12T04:50:34.970508Z",
     "iopub.status.busy": "2022-11-12T04:50:34.970131Z",
     "iopub.status.idle": "2022-11-12T04:50:34.984805Z",
     "shell.execute_reply": "2022-11-12T04:50:34.982907Z",
     "shell.execute_reply.started": "2022-11-12T04:50:34.970474Z"
    },
    "trusted": true
   },
   "outputs": [
    {
     "data": {
      "text/plain": [
       "path     5778\n",
       "label    5778\n",
       "dtype: int64"
      ]
     },
     "execution_count": 67,
     "metadata": {},
     "output_type": "execute_result"
    }
   ],
   "source": [
    "train_data.count()"
   ]
  },
  {
   "cell_type": "code",
   "execution_count": 68,
   "metadata": {
    "execution": {
     "iopub.execute_input": "2022-11-12T04:50:36.934330Z",
     "iopub.status.busy": "2022-11-12T04:50:36.933630Z",
     "iopub.status.idle": "2022-11-12T04:50:36.960510Z",
     "shell.execute_reply": "2022-11-12T04:50:36.959305Z",
     "shell.execute_reply.started": "2022-11-12T04:50:36.934292Z"
    },
    "trusted": true
   },
   "outputs": [
    {
     "name": "stdout",
     "output_type": "stream",
     "text": [
      "<class 'pandas.core.frame.DataFrame'>\n",
      "RangeIndex: 5778 entries, 0 to 5777\n",
      "Data columns (total 2 columns):\n",
      " #   Column  Non-Null Count  Dtype \n",
      "---  ------  --------------  ----- \n",
      " 0   path    5778 non-null   object\n",
      " 1   label   5778 non-null   int64 \n",
      "dtypes: int64(1), object(1)\n",
      "memory usage: 90.4+ KB\n"
     ]
    }
   ],
   "source": [
    "train_data.info()"
   ]
  },
  {
   "cell_type": "code",
   "execution_count": 69,
   "metadata": {
    "execution": {
     "iopub.execute_input": "2022-11-12T04:50:39.470680Z",
     "iopub.status.busy": "2022-11-12T04:50:39.470308Z",
     "iopub.status.idle": "2022-11-12T04:50:39.477654Z",
     "shell.execute_reply": "2022-11-12T04:50:39.476566Z",
     "shell.execute_reply.started": "2022-11-12T04:50:39.470648Z"
    },
    "trusted": true
   },
   "outputs": [
    {
     "data": {
      "text/plain": [
       "(5778, 2)"
      ]
     },
     "execution_count": 69,
     "metadata": {},
     "output_type": "execute_result"
    }
   ],
   "source": [
    "train_data.shape"
   ]
  },
  {
   "cell_type": "code",
   "execution_count": 70,
   "metadata": {
    "execution": {
     "iopub.execute_input": "2022-11-12T04:50:41.963150Z",
     "iopub.status.busy": "2022-11-12T04:50:41.962470Z",
     "iopub.status.idle": "2022-11-12T04:50:41.974758Z",
     "shell.execute_reply": "2022-11-12T04:50:41.973654Z",
     "shell.execute_reply.started": "2022-11-12T04:50:41.963114Z"
    },
    "trusted": true
   },
   "outputs": [
    {
     "data": {
      "text/plain": [
       "path     826\n",
       "label    826\n",
       "dtype: int64"
      ]
     },
     "execution_count": 70,
     "metadata": {},
     "output_type": "execute_result"
    }
   ],
   "source": [
    "val_data.count()"
   ]
  },
  {
   "cell_type": "code",
   "execution_count": 71,
   "metadata": {
    "execution": {
     "iopub.execute_input": "2022-11-12T04:50:43.653723Z",
     "iopub.status.busy": "2022-11-12T04:50:43.653322Z",
     "iopub.status.idle": "2022-11-12T04:50:43.667892Z",
     "shell.execute_reply": "2022-11-12T04:50:43.666505Z",
     "shell.execute_reply.started": "2022-11-12T04:50:43.653692Z"
    },
    "trusted": true
   },
   "outputs": [
    {
     "name": "stdout",
     "output_type": "stream",
     "text": [
      "<class 'pandas.core.frame.DataFrame'>\n",
      "RangeIndex: 826 entries, 0 to 825\n",
      "Data columns (total 2 columns):\n",
      " #   Column  Non-Null Count  Dtype \n",
      "---  ------  --------------  ----- \n",
      " 0   path    826 non-null    object\n",
      " 1   label   826 non-null    int64 \n",
      "dtypes: int64(1), object(1)\n",
      "memory usage: 13.0+ KB\n"
     ]
    }
   ],
   "source": [
    "val_data.info()"
   ]
  },
  {
   "cell_type": "code",
   "execution_count": 72,
   "metadata": {
    "execution": {
     "iopub.execute_input": "2022-11-12T04:50:46.155730Z",
     "iopub.status.busy": "2022-11-12T04:50:46.154675Z",
     "iopub.status.idle": "2022-11-12T04:50:46.163608Z",
     "shell.execute_reply": "2022-11-12T04:50:46.162508Z",
     "shell.execute_reply.started": "2022-11-12T04:50:46.155690Z"
    },
    "trusted": true
   },
   "outputs": [
    {
     "data": {
      "text/plain": [
       "(826, 2)"
      ]
     },
     "execution_count": 72,
     "metadata": {},
     "output_type": "execute_result"
    }
   ],
   "source": [
    "val_data.shape"
   ]
  },
  {
   "cell_type": "code",
   "execution_count": 73,
   "metadata": {
    "execution": {
     "iopub.execute_input": "2022-11-12T04:50:48.241250Z",
     "iopub.status.busy": "2022-11-12T04:50:48.240863Z",
     "iopub.status.idle": "2022-11-12T04:50:48.253512Z",
     "shell.execute_reply": "2022-11-12T04:50:48.252190Z",
     "shell.execute_reply.started": "2022-11-12T04:50:48.241219Z"
    },
    "trusted": true
   },
   "outputs": [
    {
     "data": {
      "text/plain": [
       "path     1656\n",
       "label    1656\n",
       "dtype: int64"
      ]
     },
     "execution_count": 73,
     "metadata": {},
     "output_type": "execute_result"
    }
   ],
   "source": [
    "test_data.count()"
   ]
  },
  {
   "cell_type": "code",
   "execution_count": 74,
   "metadata": {
    "execution": {
     "iopub.execute_input": "2022-11-12T04:50:50.420315Z",
     "iopub.status.busy": "2022-11-12T04:50:50.419958Z",
     "iopub.status.idle": "2022-11-12T04:50:50.435395Z",
     "shell.execute_reply": "2022-11-12T04:50:50.433996Z",
     "shell.execute_reply.started": "2022-11-12T04:50:50.420285Z"
    },
    "trusted": true
   },
   "outputs": [
    {
     "name": "stdout",
     "output_type": "stream",
     "text": [
      "<class 'pandas.core.frame.DataFrame'>\n",
      "RangeIndex: 1656 entries, 0 to 1655\n",
      "Data columns (total 2 columns):\n",
      " #   Column  Non-Null Count  Dtype \n",
      "---  ------  --------------  ----- \n",
      " 0   path    1656 non-null   object\n",
      " 1   label   1656 non-null   int64 \n",
      "dtypes: int64(1), object(1)\n",
      "memory usage: 26.0+ KB\n"
     ]
    }
   ],
   "source": [
    "test_data.info()"
   ]
  },
  {
   "cell_type": "code",
   "execution_count": 75,
   "metadata": {
    "execution": {
     "iopub.execute_input": "2022-11-12T04:50:53.833370Z",
     "iopub.status.busy": "2022-11-12T04:50:53.833014Z",
     "iopub.status.idle": "2022-11-12T04:50:53.840430Z",
     "shell.execute_reply": "2022-11-12T04:50:53.838988Z",
     "shell.execute_reply.started": "2022-11-12T04:50:53.833337Z"
    },
    "trusted": true
   },
   "outputs": [
    {
     "data": {
      "text/plain": [
       "(1656, 2)"
      ]
     },
     "execution_count": 75,
     "metadata": {},
     "output_type": "execute_result"
    }
   ],
   "source": [
    "test_data.shape"
   ]
  },
  {
   "cell_type": "code",
   "execution_count": 76,
   "metadata": {
    "execution": {
     "iopub.execute_input": "2022-11-12T04:50:55.844675Z",
     "iopub.status.busy": "2022-11-12T04:50:55.844259Z",
     "iopub.status.idle": "2022-11-12T04:50:55.866103Z",
     "shell.execute_reply": "2022-11-12T04:50:55.865142Z",
     "shell.execute_reply.started": "2022-11-12T04:50:55.844643Z"
    },
    "trusted": true
   },
   "outputs": [
    {
     "data": {
      "text/html": [
       "<div>\n",
       "<style scoped>\n",
       "    .dataframe tbody tr th:only-of-type {\n",
       "        vertical-align: middle;\n",
       "    }\n",
       "\n",
       "    .dataframe tbody tr th {\n",
       "        vertical-align: top;\n",
       "    }\n",
       "\n",
       "    .dataframe thead th {\n",
       "        text-align: right;\n",
       "    }\n",
       "</style>\n",
       "<table border=\"1\" class=\"dataframe\">\n",
       "  <thead>\n",
       "    <tr style=\"text-align: right;\">\n",
       "      <th></th>\n",
       "      <th>ostheoarthritis grading</th>\n",
       "      <th>count (training, validation and testing)</th>\n",
       "    </tr>\n",
       "  </thead>\n",
       "  <tbody>\n",
       "    <tr>\n",
       "      <th>0</th>\n",
       "      <td>Healthy</td>\n",
       "      <td>3253</td>\n",
       "    </tr>\n",
       "    <tr>\n",
       "      <th>1</th>\n",
       "      <td>Non Severe OA</td>\n",
       "      <td>3670</td>\n",
       "    </tr>\n",
       "    <tr>\n",
       "      <th>2</th>\n",
       "      <td>Severe OA</td>\n",
       "      <td>1337</td>\n",
       "    </tr>\n",
       "  </tbody>\n",
       "</table>\n",
       "</div>"
      ],
      "text/plain": [
       "  ostheoarthritis grading  count (training, validation and testing)\n",
       "0                 Healthy                                      3253\n",
       "1           Non Severe OA                                      3670\n",
       "2               Severe OA                                      1337"
      ]
     },
     "execution_count": 76,
     "metadata": {},
     "output_type": "execute_result"
    }
   ],
   "source": [
    "df = pd.DataFrame()\n",
    "df['ostheoarthritis grading'] = ['Healthy', 'Non Severe OA', 'Severe OA']#['Grade 0','Grade 1','Grade 2','Grade 3','Grade 4']\n",
    "grade_count = []\n",
    "for i in range(3):\n",
    "    gc = len(train_data[train_data['label']==i]) + len(test_data[test_data['label']==i]) + len(val_data[val_data['label']==i])\n",
    "    grade_count.append(gc)\n",
    "df['count (training, validation and testing)'] = grade_count[:]\n",
    "df"
   ]
  },
  {
   "cell_type": "code",
   "execution_count": 77,
   "metadata": {
    "execution": {
     "iopub.execute_input": "2022-11-12T04:50:59.031738Z",
     "iopub.status.busy": "2022-11-12T04:50:59.031392Z",
     "iopub.status.idle": "2022-11-12T04:50:59.269198Z",
     "shell.execute_reply": "2022-11-12T04:50:59.268252Z",
     "shell.execute_reply.started": "2022-11-12T04:50:59.031706Z"
    },
    "trusted": true
   },
   "outputs": [
    {
     "data": {
      "image/png": "[encoded data removed]",
      "text/plain": [
       "<Figure size 432x288 with 1 Axes>"
      ]
     },
     "metadata": {},
     "output_type": "display_data"
    }
   ],
   "source": [
    "x = list(np.arange(3))\n",
    "y = list(df['count (training, validation and testing)'])\n",
    "plt.bar(x,y,color=['#9a01ff','#71a9fc','#01ffd5'])#,'#5cfe9d','#b7ff01'])\n",
    "plt.grid()\n",
    "plt.xticks(x,list(df['ostheoarthritis grading']))\n",
    "plt.xlabel('ostheoarthritis grading')\n",
    "plt.ylabel('count (training, validation and testing)')\n",
    "plt.title('Knee Ostheoarthritis')\n",
    "plt.show()"
   ]
  },
  {
   "cell_type": "code",
   "execution_count": null,
   "metadata": {
    "execution": {
     "iopub.execute_input": "2022-11-12T04:51:02.488920Z",
     "iopub.status.busy": "2022-11-12T04:51:02.488310Z",
     "iopub.status.idle": "2022-11-12T04:51:03.770662Z",
     "shell.execute_reply": "2022-11-12T04:51:03.769769Z",
     "shell.execute_reply.started": "2022-11-12T04:51:02.488878Z"
    },
    "trusted": true
   },
   "outputs": [
    {
     "data": {
      "image/png": "[encoded data removed]",
      "text/plain": [
       "<Figure size 1080x1080 with 5 Axes>"
      ]
     },
     "metadata": {},
     "output_type": "display_data"
    }
   ],
   "source": [
    "fig, ax = plt.subplots(1,5,figsize=(15,15))/*\n",
    "ax = ax.ravel()\n",
    "plt.tight_layout()\n",
    "ax = ax.ravel()\n",
    "plt.tight_layout()\n",
    "ldata = ['C:/Users/bhavr/Downloads/KOA/train/0/9005656L.png',\n",
    "         'C:/Users/bhavr/Downloads/KOA/train/1/9008561R.png',\n",
    "        'C:/Users/bhavr/Downloads/KOA/train/2/9024940L.png',\n",
    "        'C:/Users/bhavr/Downloads/KOA/train/3/9037823L.png',\n",
    "        'C:/Users/bhavr/Downloads/KOA/train/4/9204055R.png']\n",
    "lab = ['Grade 0','Grade 1 (Non Severe OA)','Grade 2 (Non Severe OA)','Grade 3 (Severe OA)','Grade 4 (Severe OA)']\n",
    "for i in range(0,5):\n",
    "    ax[i].imshow(plt.imread(ldata[i]), cmap='gray')\n",
    "    ax[i].set_title(lab[i])\n",
    "plt.show()"
   ]
  },
  {
   "cell_type": "code",
   "execution_count": 79,
   "metadata": {
    "execution": {
     "iopub.execute_input": "2022-11-12T04:51:08.476451Z",
     "iopub.status.busy": "2022-11-12T04:51:08.475743Z",
     "iopub.status.idle": "2022-11-12T04:51:09.253935Z",
     "shell.execute_reply": "2022-11-12T04:51:09.252964Z",
     "shell.execute_reply.started": "2022-11-12T04:51:08.476414Z"
    },
    "trusted": true
   },
   "outputs": [],
   "source": [
    "import torch\n",
    "import torch.nn as nn\n",
    "import torch.nn.functional as F\n",
    "from torch.utils.data import Dataset, DataLoader\n",
    "from torchvision import transforms"
   ]
  },
  {
   "cell_type": "code",
   "execution_count": 80,
   "metadata": {
    "execution": {
     "iopub.execute_input": "2022-11-12T04:51:10.638133Z",
     "iopub.status.busy": "2022-11-12T04:51:10.637566Z",
     "iopub.status.idle": "2022-11-12T04:51:10.644086Z",
     "shell.execute_reply": "2022-11-12T04:51:10.642943Z",
     "shell.execute_reply.started": "2022-11-12T04:51:10.638098Z"
    },
    "trusted": true
   },
   "outputs": [],
   "source": [
    "transform = transforms.Compose([\n",
    "    transforms.Resize(256),\n",
    "    transforms.CenterCrop(224),\n",
    "    #transforms.RandomHorizontalFlip(),\n",
    "    transforms.ToTensor(),\n",
    "    transforms.Normalize(mean=[0.485, 0.456, 0.406], std=[0.229, 0.224, 0.225]),\n",
    "  ])"
   ]
  },
  {
   "cell_type": "code",
   "execution_count": 81,
   "metadata": {
    "execution": {
     "iopub.execute_input": "2022-11-12T04:51:13.057594Z",
     "iopub.status.busy": "2022-11-12T04:51:13.057220Z",
     "iopub.status.idle": "2022-11-12T04:51:13.064413Z",
     "shell.execute_reply": "2022-11-12T04:51:13.063054Z",
     "shell.execute_reply.started": "2022-11-12T04:51:13.057560Z"
    },
    "trusted": true
   },
   "outputs": [],
   "source": [
    "def filtering(img):\n",
    "  img = cv2.cvtColor(img,cv2.COLOR_BGR2GRAY)\n",
    "  clahe = cv2.createCLAHE(clipLimit=2.0, tileGridSize=(8,8))\n",
    "  cl1 = clahe.apply(img)\n",
    "  cl1 = cv2.cvtColor(cl1,cv2.COLOR_GRAY2RGB)\n",
    "  return cl1"
   ]
  },
  {
   "cell_type": "code",
   "execution_count": 82,
   "metadata": {
    "execution": {
     "iopub.execute_input": "2022-11-12T04:51:24.691206Z",
     "iopub.status.busy": "2022-11-12T04:51:24.690661Z",
     "iopub.status.idle": "2022-11-12T04:51:24.699692Z",
     "shell.execute_reply": "2022-11-12T04:51:24.698605Z",
     "shell.execute_reply.started": "2022-11-12T04:51:24.691177Z"
    },
    "trusted": true
   },
   "outputs": [],
   "source": [
    "class KneeDataset(Dataset):\n",
    "    def __init__(self,data,transforms=None):\n",
    "        self.data = data\n",
    "        self.transforms = transforms\n",
    "    def __len__(self):\n",
    "        return len(self.data)\n",
    "    def __getitem__(self,idx):\n",
    "        img_name = str(self.data.iloc[idx,0])\n",
    "        image = cv2.imread(img_name)\n",
    "        image = filtering(image)\n",
    "        image = Image.fromarray(image)\n",
    "        #image = image.resize((256, 256,3))\n",
    "        label = torch.tensor(int(self.data.iloc[idx,1]))\n",
    "        if self.transforms:\n",
    "            image = self.transforms(image)\n",
    "        return (image,label)"
   ]
  },
  {
   "cell_type": "code",
   "execution_count": 83,
   "metadata": {
    "execution": {
     "iopub.execute_input": "2022-11-12T04:51:29.962585Z",
     "iopub.status.busy": "2022-11-12T04:51:29.961980Z",
     "iopub.status.idle": "2022-11-12T04:51:29.969081Z",
     "shell.execute_reply": "2022-11-12T04:51:29.967978Z",
     "shell.execute_reply.started": "2022-11-12T04:51:29.962546Z"
    },
    "trusted": true
   },
   "outputs": [],
   "source": [
    "def allDevice():\n",
    "    device = torch.device(\"cuda:0\" if torch.cuda.is_available() else \"cpu\")\n",
    "    return device"
   ]
  },
  {
   "cell_type": "code",
   "execution_count": 84,
   "metadata": {
    "execution": {
     "iopub.execute_input": "2022-11-12T04:51:54.586422Z",
     "iopub.status.busy": "2022-11-12T04:51:54.585659Z",
     "iopub.status.idle": "2022-11-12T04:51:56.359987Z",
     "shell.execute_reply": "2022-11-12T04:51:56.358905Z",
     "shell.execute_reply.started": "2022-11-12T04:51:54.586378Z"
    },
    "trusted": true
   },
   "outputs": [
    {
     "name": "stderr",
     "output_type": "stream",
     "text": [
      "c:\\Users\\bhavr\\anaconda3\\lib\\site-packages\\torchvision\\models\\_utils.py:208: UserWarning: The parameter 'pretrained' is deprecated since 0.13 and may be removed in the future, please use 'weights' instead.\n",
      "  warnings.warn(\n",
      "c:\\Users\\bhavr\\anaconda3\\lib\\site-packages\\torchvision\\models\\_utils.py:223: UserWarning: Arguments other than a weight enum or `None` for 'weights' are deprecated since 0.13 and may be removed in the future. The current behavior is equivalent to passing `weights=VGG13_BN_Weights.IMAGENET1K_V1`. You can also use `weights=VGG13_BN_Weights.DEFAULT` to get the most up-to-date weights.\n",
      "  warnings.warn(msg)\n"
     ]
    },
    {
     "name": "stdout",
     "output_type": "stream",
     "text": [
      "VGG(\n",
      "  (features): Sequential(\n",
      "    (0): Conv2d(3, 64, kernel_size=(3, 3), stride=(1, 1), padding=(1, 1))\n",
      "    (1): BatchNorm2d(64, eps=1e-05, momentum=0.1, affine=True, track_running_stats=True)\n",
      "    (2): ReLU(inplace=True)\n",
      "    (3): Conv2d(64, 64, kernel_size=(3, 3), stride=(1, 1), padding=(1, 1))\n",
      "    (4): BatchNorm2d(64, eps=1e-05, momentum=0.1, affine=True, track_running_stats=True)\n",
      "    (5): ReLU(inplace=True)\n",
      "    (6): MaxPool2d(kernel_size=2, stride=2, padding=0, dilation=1, ceil_mode=False)\n",
      "    (7): Conv2d(64, 128, kernel_size=(3, 3), stride=(1, 1), padding=(1, 1))\n",
      "    (8): BatchNorm2d(128, eps=1e-05, momentum=0.1, affine=True, track_running_stats=True)\n",
      "    (9): ReLU(inplace=True)\n",
      "    (10): Conv2d(128, 128, kernel_size=(3, 3), stride=(1, 1), padding=(1, 1))\n",
      "    (11): BatchNorm2d(128, eps=1e-05, momentum=0.1, affine=True, track_running_stats=True)\n",
      "    (12): ReLU(inplace=True)\n",
      "    (13): MaxPool2d(kernel_size=2, stride=2, padding=0, dilation=1, ceil_mode=False)\n",
      "    (14): Conv2d(128, 256, kernel_size=(3, 3), stride=(1, 1), padding=(1, 1))\n",
      "    (15): BatchNorm2d(256, eps=1e-05, momentum=0.1, affine=True, track_running_stats=True)\n",
      "    (16): ReLU(inplace=True)\n",
      "    (17): Conv2d(256, 256, kernel_size=(3, 3), stride=(1, 1), padding=(1, 1))\n",
      "    (18): BatchNorm2d(256, eps=1e-05, momentum=0.1, affine=True, track_running_stats=True)\n",
      "    (19): ReLU(inplace=True)\n",
      "    (20): MaxPool2d(kernel_size=2, stride=2, padding=0, dilation=1, ceil_mode=False)\n",
      "    (21): Conv2d(256, 512, kernel_size=(3, 3), stride=(1, 1), padding=(1, 1))\n",
      "    (22): BatchNorm2d(512, eps=1e-05, momentum=0.1, affine=True, track_running_stats=True)\n",
      "    (23): ReLU(inplace=True)\n",
      "    (24): Conv2d(512, 512, kernel_size=(3, 3), stride=(1, 1), padding=(1, 1))\n",
      "    (25): BatchNorm2d(512, eps=1e-05, momentum=0.1, affine=True, track_running_stats=True)\n",
      "    (26): ReLU(inplace=True)\n",
      "    (27): MaxPool2d(kernel_size=2, stride=2, padding=0, dilation=1, ceil_mode=False)\n",
      "    (28): Conv2d(512, 512, kernel_size=(3, 3), stride=(1, 1), padding=(1, 1))\n",
      "    (29): BatchNorm2d(512, eps=1e-05, momentum=0.1, affine=True, track_running_stats=True)\n",
      "    (30): ReLU(inplace=True)\n",
      "    (31): Conv2d(512, 512, kernel_size=(3, 3), stride=(1, 1), padding=(1, 1))\n",
      "    (32): BatchNorm2d(512, eps=1e-05, momentum=0.1, affine=True, track_running_stats=True)\n",
      "    (33): ReLU(inplace=True)\n",
      "    (34): MaxPool2d(kernel_size=2, stride=2, padding=0, dilation=1, ceil_mode=False)\n",
      "  )\n",
      "  (avgpool): AdaptiveAvgPool2d(output_size=(7, 7))\n",
      "  (classifier): Sequential(\n",
      "    (0): Linear(in_features=25088, out_features=4096, bias=True)\n",
      "    (1): ReLU(inplace=True)\n",
      "    (2): Dropout(p=0.5, inplace=False)\n",
      "    (3): Linear(in_features=4096, out_features=4096, bias=True)\n",
      "    (4): ReLU(inplace=True)\n",
      "    (5): Dropout(p=0.5, inplace=False)\n",
      "    (6): Linear(in_features=4096, out_features=1000, bias=True)\n",
      "  )\n",
      ")\n"
     ]
    }
   ],
   "source": [
    "import torchvision\n",
    "device = allDevice()\n",
    "model = torchvision.models.vgg13_bn(pretrained=True)\n",
    "print(model)"
   ]
  },
  {
   "cell_type": "code",
   "execution_count": 85,
   "metadata": {
    "execution": {
     "iopub.execute_input": "2022-11-12T04:51:56.383810Z",
     "iopub.status.busy": "2022-11-12T04:51:56.383531Z",
     "iopub.status.idle": "2022-11-12T04:51:56.394196Z",
     "shell.execute_reply": "2022-11-12T04:51:56.393221Z",
     "shell.execute_reply.started": "2022-11-12T04:51:56.383786Z"
    },
    "trusted": true
   },
   "outputs": [],
   "source": [
    "train_set = KneeDataset(data=train_data, transforms=transform)\n",
    "val_set = KneeDataset(data=val_data, transforms=transform)\n",
    "test_set = KneeDataset(data=test_data, transforms=transform)"
   ]
  },
  {
   "cell_type": "code",
   "execution_count": 86,
   "metadata": {
    "execution": {
     "iopub.execute_input": "2022-11-12T04:51:56.430970Z",
     "iopub.status.busy": "2022-11-12T04:51:56.430505Z",
     "iopub.status.idle": "2022-11-12T04:51:56.440154Z",
     "shell.execute_reply": "2022-11-12T04:51:56.439181Z",
     "shell.execute_reply.started": "2022-11-12T04:51:56.430935Z"
    },
    "trusted": true
   },
   "outputs": [],
   "source": [
    "batch_size= 64\n",
    "train_dl = DataLoader(train_set,batch_size=batch_size,shuffle=True)\n",
    "val_dl = DataLoader(val_set,batch_size=batch_size,shuffle=True)\n",
    "test_dl = DataLoader(test_set,batch_size=batch_size)"
   ]
  },
  {
   "cell_type": "code",
   "execution_count": 87,
   "metadata": {
    "execution": {
     "iopub.execute_input": "2022-11-12T04:51:57.885966Z",
     "iopub.status.busy": "2022-11-12T04:51:57.885110Z",
     "iopub.status.idle": "2022-11-12T04:51:57.892080Z",
     "shell.execute_reply": "2022-11-12T04:51:57.890870Z",
     "shell.execute_reply.started": "2022-11-12T04:51:57.885907Z"
    },
    "trusted": true
   },
   "outputs": [],
   "source": [
    "for x in model.features.parameters():\n",
    "  x.requires_grad = False"
   ]
  },
  {
   "cell_type": "code",
   "execution_count": 88,
   "metadata": {
    "execution": {
     "iopub.execute_input": "2022-11-12T04:52:07.522516Z",
     "iopub.status.busy": "2022-11-12T04:52:07.521848Z",
     "iopub.status.idle": "2022-11-12T04:52:08.708936Z",
     "shell.execute_reply": "2022-11-12T04:52:08.707771Z",
     "shell.execute_reply.started": "2022-11-12T04:52:07.522477Z"
    },
    "trusted": true
   },
   "outputs": [],
   "source": [
    "model.classifier= nn.Sequential(nn.Linear(in_features=25088, out_features=4096, bias=True),\n",
    "                                nn.ReLU(inplace=True),\n",
    "                                nn.Dropout(p=0.5, inplace=False),\n",
    "                                nn.Linear(in_features=4096, out_features=4096, bias=True),\n",
    "                                nn.ReLU(inplace=True),\n",
    "                                nn.Dropout(p=0.5, inplace=False),\n",
    "                                nn.Linear(in_features=4096, out_features=3, bias=True))"
   ]
  },
  {
   "cell_type": "code",
   "execution_count": 89,
   "metadata": {
    "execution": {
     "iopub.execute_input": "2022-11-12T04:52:08.711605Z",
     "iopub.status.busy": "2022-11-12T04:52:08.710913Z",
     "iopub.status.idle": "2022-11-12T04:52:12.604474Z",
     "shell.execute_reply": "2022-11-12T04:52:12.602498Z",
     "shell.execute_reply.started": "2022-11-12T04:52:08.711561Z"
    },
    "trusted": true
   },
   "outputs": [
    {
     "data": {
      "text/plain": [
       "VGG(\n",
       "  (features): Sequential(\n",
       "    (0): Conv2d(3, 64, kernel_size=(3, 3), stride=(1, 1), padding=(1, 1))\n",
       "    (1): BatchNorm2d(64, eps=1e-05, momentum=0.1, affine=True, track_running_stats=True)\n",
       "    (2): ReLU(inplace=True)\n",
       "    (3): Conv2d(64, 64, kernel_size=(3, 3), stride=(1, 1), padding=(1, 1))\n",
       "    (4): BatchNorm2d(64, eps=1e-05, momentum=0.1, affine=True, track_running_stats=True)\n",
       "    (5): ReLU(inplace=True)\n",
       "    (6): MaxPool2d(kernel_size=2, stride=2, padding=0, dilation=1, ceil_mode=False)\n",
       "    (7): Conv2d(64, 128, kernel_size=(3, 3), stride=(1, 1), padding=(1, 1))\n",
       "    (8): BatchNorm2d(128, eps=1e-05, momentum=0.1, affine=True, track_running_stats=True)\n",
       "    (9): ReLU(inplace=True)\n",
       "    (10): Conv2d(128, 128, kernel_size=(3, 3), stride=(1, 1), padding=(1, 1))\n",
       "    (11): BatchNorm2d(128, eps=1e-05, momentum=0.1, affine=True, track_running_stats=True)\n",
       "    (12): ReLU(inplace=True)\n",
       "    (13): MaxPool2d(kernel_size=2, stride=2, padding=0, dilation=1, ceil_mode=False)\n",
       "    (14): Conv2d(128, 256, kernel_size=(3, 3), stride=(1, 1), padding=(1, 1))\n",
       "    (15): BatchNorm2d(256, eps=1e-05, momentum=0.1, affine=True, track_running_stats=True)\n",
       "    (16): ReLU(inplace=True)\n",
       "    (17): Conv2d(256, 256, kernel_size=(3, 3), stride=(1, 1), padding=(1, 1))\n",
       "    (18): BatchNorm2d(256, eps=1e-05, momentum=0.1, affine=True, track_running_stats=True)\n",
       "    (19): ReLU(inplace=True)\n",
       "    (20): MaxPool2d(kernel_size=2, stride=2, padding=0, dilation=1, ceil_mode=False)\n",
       "    (21): Conv2d(256, 512, kernel_size=(3, 3), stride=(1, 1), padding=(1, 1))\n",
       "    (22): BatchNorm2d(512, eps=1e-05, momentum=0.1, affine=True, track_running_stats=True)\n",
       "    (23): ReLU(inplace=True)\n",
       "    (24): Conv2d(512, 512, kernel_size=(3, 3), stride=(1, 1), padding=(1, 1))\n",
       "    (25): BatchNorm2d(512, eps=1e-05, momentum=0.1, affine=True, track_running_stats=True)\n",
       "    (26): ReLU(inplace=True)\n",
       "    (27): MaxPool2d(kernel_size=2, stride=2, padding=0, dilation=1, ceil_mode=False)\n",
       "    (28): Conv2d(512, 512, kernel_size=(3, 3), stride=(1, 1), padding=(1, 1))\n",
       "    (29): BatchNorm2d(512, eps=1e-05, momentum=0.1, affine=True, track_running_stats=True)\n",
       "    (30): ReLU(inplace=True)\n",
       "    (31): Conv2d(512, 512, kernel_size=(3, 3), stride=(1, 1), padding=(1, 1))\n",
       "    (32): BatchNorm2d(512, eps=1e-05, momentum=0.1, affine=True, track_running_stats=True)\n",
       "    (33): ReLU(inplace=True)\n",
       "    (34): MaxPool2d(kernel_size=2, stride=2, padding=0, dilation=1, ceil_mode=False)\n",
       "  )\n",
       "  (avgpool): AdaptiveAvgPool2d(output_size=(7, 7))\n",
       "  (classifier): Sequential(\n",
       "    (0): Linear(in_features=25088, out_features=4096, bias=True)\n",
       "    (1): ReLU(inplace=True)\n",
       "    (2): Dropout(p=0.5, inplace=False)\n",
       "    (3): Linear(in_features=4096, out_features=4096, bias=True)\n",
       "    (4): ReLU(inplace=True)\n",
       "    (5): Dropout(p=0.5, inplace=False)\n",
       "    (6): Linear(in_features=4096, out_features=3, bias=True)\n",
       "  )\n",
       ")"
      ]
     },
     "execution_count": 89,
     "metadata": {},
     "output_type": "execute_result"
    }
   ],
   "source": [
    "model.to(device)"
   ]
  },
  {
   "cell_type": "code",
   "execution_count": 90,
   "metadata": {
    "execution": {
     "iopub.execute_input": "2022-11-12T05:22:29.345365Z",
     "iopub.status.busy": "2022-11-12T05:22:29.344960Z",
     "iopub.status.idle": "2022-11-12T05:22:29.353278Z",
     "shell.execute_reply": "2022-11-12T05:22:29.351913Z",
     "shell.execute_reply.started": "2022-11-12T05:22:29.345332Z"
    },
    "trusted": true
   },
   "outputs": [
    {
     "name": "stderr",
     "output_type": "stream",
     "text": [
      "c:\\Users\\bhavr\\anaconda3\\lib\\site-packages\\torch\\optim\\lr_scheduler.py:62: UserWarning: The verbose parameter is deprecated. Please use get_last_lr() to access the learning rate.\n",
      "  warnings.warn(\n"
     ]
    }
   ],
   "source": [
    "import torch.optim as optim\n",
    "from torch.optim import lr_scheduler\n",
    "optimizer= optim.Adam(model.parameters(),lr = 1e-4)\n",
    "scheduler = lr_scheduler.ReduceLROnPlateau(optimizer,mode='max',patience=5,verbose=True)\n",
    "loss_fn = nn.CrossEntropyLoss()"
   ]
  },
  {
   "cell_type": "code",
   "execution_count": 91,
   "metadata": {
    "execution": {
     "iopub.execute_input": "2022-11-12T05:22:34.538112Z",
     "iopub.status.busy": "2022-11-12T05:22:34.536298Z",
     "iopub.status.idle": "2022-11-12T05:22:34.545042Z",
     "shell.execute_reply": "2022-11-12T05:22:34.544128Z",
     "shell.execute_reply.started": "2022-11-12T05:22:34.538070Z"
    },
    "trusted": true
   },
   "outputs": [],
   "source": [
    "import copy\n",
    "def trainEpoch(model,dataloader,lr,optimizer,loss_fn):\n",
    "    total_loss,total_acc,count = 0.0,0.0,0\n",
    "    model.train()\n",
    "    for x,y in dataloader:\n",
    "        #print(type(x))\n",
    "        x = x.to(device)\n",
    "        y = y.to(device)\n",
    "        optimizer.zero_grad()\n",
    "        outputs = model(x)\n",
    "        _, preds = torch.max(outputs , 1)\n",
    "        loss = loss_fn(outputs,y)\n",
    "        loss.backward()\n",
    "        optimizer.step()\n",
    "        total_acc+=(preds==y).sum()\n",
    "        total_loss+=loss\n",
    "        count+=len(y)\n",
    "    return total_loss.item()/count, total_acc.item()/count"
   ]
  },
  {
   "cell_type": "code",
   "execution_count": 92,
   "metadata": {
    "execution": {
     "iopub.execute_input": "2022-11-12T05:22:37.339460Z",
     "iopub.status.busy": "2022-11-12T05:22:37.339066Z",
     "iopub.status.idle": "2022-11-12T05:22:37.346444Z",
     "shell.execute_reply": "2022-11-12T05:22:37.345393Z",
     "shell.execute_reply.started": "2022-11-12T05:22:37.339425Z"
    },
    "trusted": true
   },
   "outputs": [],
   "source": [
    "def validateEpoch(model,dataloader,loss_fn):\n",
    "    total_loss,total_acc,count = 0.0,0.0,0\n",
    "    model.eval()\n",
    "    with torch.no_grad():\n",
    "        for x,y in dataloader:\n",
    "            x = x.to(device)\n",
    "            y = y.to(device)\n",
    "            outputs = model(x)\n",
    "            _, preds = torch.max(outputs , 1)\n",
    "            loss = loss_fn(outputs,y)\n",
    "            total_acc+=(preds==y).sum()\n",
    "            total_loss+=loss\n",
    "            count+=len(y)\n",
    "    return total_loss.item()/count, total_acc.item()/count"
   ]
  },
  {
   "cell_type": "code",
   "execution_count": 93,
   "metadata": {
    "execution": {
     "iopub.execute_input": "2022-11-12T05:22:40.082427Z",
     "iopub.status.busy": "2022-11-12T05:22:40.081743Z",
     "iopub.status.idle": "2022-11-12T05:22:40.090500Z",
     "shell.execute_reply": "2022-11-12T05:22:40.089305Z",
     "shell.execute_reply.started": "2022-11-12T05:22:40.082393Z"
    },
    "trusted": true
   },
   "outputs": [],
   "source": [
    "def train(model,train_dataloader,val_dataloader,lr,optimizer,loss_fn,scheduler,epochs):\n",
    "    best_acc = 0.0\n",
    "    best_model_wts = copy.deepcopy(model.state_dict())\n",
    "    res = { 'train_loss' : [], 'train_acc': [], 'val_loss': [], 'val_acc': []}\n",
    "    for ep in range(epochs):\n",
    "        tl,ta = trainEpoch(model,train_dataloader,lr,optimizer,loss_fn)\n",
    "        vl,va = validateEpoch(model,val_dataloader,loss_fn)\n",
    "        print(f\"Epoch {ep:2}, Train acc={ta:.3f}, Val acc={va:.3f}, Train loss={tl:.3f}, Val loss={vl:.3f}\")\n",
    "        res['train_loss'].append(tl)\n",
    "        res['train_acc'].append(ta)\n",
    "        res['val_loss'].append(vl)\n",
    "        res['val_acc'].append(va)\n",
    "        if va > best_acc:\n",
    "            best_acc = va\n",
    "            best_model_wts = copy.deepcopy(model.state_dict())\n",
    "        scheduler.step(vl)\n",
    "    return res,best_model_wts"
   ]
  },
  {
   "cell_type": "code",
   "execution_count": 94,
   "metadata": {
    "execution": {
     "iopub.execute_input": "2022-11-12T05:22:42.269797Z",
     "iopub.status.busy": "2022-11-12T05:22:42.269419Z",
     "iopub.status.idle": "2022-11-12T06:03:48.120594Z",
     "shell.execute_reply": "2022-11-12T06:03:48.118876Z",
     "shell.execute_reply.started": "2022-11-12T05:22:42.269764Z"
    },
    "trusted": true
   },
   "outputs": [
    {
     "name": "stdout",
     "output_type": "stream",
     "text": [
      "Epoch  0, Train acc=0.533, Val acc=0.552, Train loss=0.014, Val loss=0.013\n",
      "Epoch  1, Train acc=0.686, Val acc=0.627, Train loss=0.010, Val loss=0.012\n",
      "Epoch  2, Train acc=0.772, Val acc=0.623, Train loss=0.008, Val loss=0.012\n",
      "Epoch  3, Train acc=0.865, Val acc=0.625, Train loss=0.005, Val loss=0.013\n",
      "Epoch  4, Train acc=0.930, Val acc=0.617, Train loss=0.003, Val loss=0.016\n",
      "Epoch  5, Train acc=0.955, Val acc=0.584, Train loss=0.002, Val loss=0.022\n",
      "Epoch  6, Train acc=0.970, Val acc=0.631, Train loss=0.001, Val loss=0.023\n",
      "Epoch  7, Train acc=0.975, Val acc=0.607, Train loss=0.001, Val loss=0.022\n",
      "Epoch  8, Train acc=0.979, Val acc=0.615, Train loss=0.001, Val loss=0.024\n",
      "Epoch  9, Train acc=0.979, Val acc=0.634, Train loss=0.001, Val loss=0.024\n",
      "Epoch 10, Train acc=0.992, Val acc=0.621, Train loss=0.000, Val loss=0.027\n",
      "Epoch 11, Train acc=0.988, Val acc=0.604, Train loss=0.001, Val loss=0.033\n",
      "Epoch 12, Train acc=0.993, Val acc=0.596, Train loss=0.000, Val loss=0.030\n",
      "Epoch 13, Train acc=0.995, Val acc=0.610, Train loss=0.000, Val loss=0.033\n",
      "Epoch 14, Train acc=0.977, Val acc=0.617, Train loss=0.001, Val loss=0.030\n",
      "Epoch 15, Train acc=0.973, Val acc=0.619, Train loss=0.001, Val loss=0.030\n",
      "Epoch 16, Train acc=0.975, Val acc=0.613, Train loss=0.001, Val loss=0.028\n",
      "Epoch 17, Train acc=0.993, Val acc=0.607, Train loss=0.000, Val loss=0.033\n",
      "Epoch 18, Train acc=0.996, Val acc=0.617, Train loss=0.000, Val loss=0.032\n",
      "Epoch 19, Train acc=0.996, Val acc=0.620, Train loss=0.000, Val loss=0.032\n",
      "Epoch 20, Train acc=0.989, Val acc=0.596, Train loss=0.001, Val loss=0.036\n",
      "Epoch 21, Train acc=0.987, Val acc=0.625, Train loss=0.001, Val loss=0.034\n",
      "Epoch 22, Train acc=0.987, Val acc=0.631, Train loss=0.001, Val loss=0.033\n",
      "Epoch 23, Train acc=0.988, Val acc=0.638, Train loss=0.001, Val loss=0.034\n",
      "Epoch 24, Train acc=0.993, Val acc=0.627, Train loss=0.000, Val loss=0.033\n",
      "Epoch 25, Train acc=0.993, Val acc=0.605, Train loss=0.000, Val loss=0.040\n",
      "Epoch 26, Train acc=0.994, Val acc=0.620, Train loss=0.000, Val loss=0.034\n",
      "Epoch 27, Train acc=0.991, Val acc=0.623, Train loss=0.000, Val loss=0.034\n",
      "Epoch 28, Train acc=0.992, Val acc=0.609, Train loss=0.000, Val loss=0.040\n",
      "Epoch 29, Train acc=0.994, Val acc=0.617, Train loss=0.000, Val loss=0.039\n",
      "Epoch 30, Train acc=0.991, Val acc=0.603, Train loss=0.000, Val loss=0.037\n",
      "Epoch 31, Train acc=0.986, Val acc=0.625, Train loss=0.001, Val loss=0.038\n",
      "Epoch 32, Train acc=0.995, Val acc=0.638, Train loss=0.000, Val loss=0.037\n",
      "Epoch 33, Train acc=0.998, Val acc=0.627, Train loss=0.000, Val loss=0.037\n",
      "Epoch 34, Train acc=0.999, Val acc=0.625, Train loss=0.000, Val loss=0.037\n",
      "Epoch 35, Train acc=0.999, Val acc=0.626, Train loss=0.000, Val loss=0.038\n",
      "Epoch 36, Train acc=0.999, Val acc=0.622, Train loss=0.000, Val loss=0.037\n",
      "Epoch 37, Train acc=0.999, Val acc=0.630, Train loss=0.000, Val loss=0.037\n",
      "Epoch 38, Train acc=0.999, Val acc=0.642, Train loss=0.000, Val loss=0.037\n",
      "Epoch 39, Train acc=0.999, Val acc=0.628, Train loss=0.000, Val loss=0.037\n",
      "Epoch 40, Train acc=0.999, Val acc=0.632, Train loss=0.000, Val loss=0.038\n",
      "Epoch 41, Train acc=0.999, Val acc=0.630, Train loss=0.000, Val loss=0.037\n",
      "Epoch 42, Train acc=0.999, Val acc=0.634, Train loss=0.000, Val loss=0.037\n",
      "Epoch 43, Train acc=0.999, Val acc=0.631, Train loss=0.000, Val loss=0.038\n",
      "Epoch 44, Train acc=0.999, Val acc=0.633, Train loss=0.000, Val loss=0.038\n",
      "Epoch 45, Train acc=0.999, Val acc=0.636, Train loss=0.000, Val loss=0.038\n",
      "Epoch 46, Train acc=0.999, Val acc=0.632, Train loss=0.000, Val loss=0.038\n",
      "Epoch 47, Train acc=1.000, Val acc=0.631, Train loss=0.000, Val loss=0.037\n",
      "Epoch 48, Train acc=0.999, Val acc=0.636, Train loss=0.000, Val loss=0.037\n",
      "Epoch 49, Train acc=0.999, Val acc=0.625, Train loss=0.000, Val loss=0.038\n"
     ]
    }
   ],
   "source": [
    "hist1, best_model1 = train(model,train_dl,val_dl,1e-4,optimizer,loss_fn,scheduler,50)"
   ]
  },
  {
   "cell_type": "code",
   "execution_count": 95,
   "metadata": {
    "execution": {
     "iopub.execute_input": "2022-11-12T06:03:48.124439Z",
     "iopub.status.busy": "2022-11-12T06:03:48.123346Z",
     "iopub.status.idle": "2022-11-12T06:03:48.131374Z",
     "shell.execute_reply": "2022-11-12T06:03:48.130161Z",
     "shell.execute_reply.started": "2022-11-12T06:03:48.124400Z"
    },
    "trusted": true
   },
   "outputs": [],
   "source": [
    "def plot_results(hist):\n",
    "    plt.figure(figsize=(15,5))\n",
    "    plt.subplot(121)\n",
    "    plt.plot(hist['train_acc'], label='Training acc')\n",
    "    plt.plot(hist['val_acc'], label='Validation acc')\n",
    "    plt.legend()\n",
    "    plt.subplot(122)\n",
    "    plt.plot(hist['train_loss'], label='Training loss')\n",
    "    plt.plot(hist['val_loss'], label='Validation loss')\n",
    "    plt.legend()"
   ]
  },
  {
   "cell_type": "code",
   "execution_count": 96,
   "metadata": {
    "execution": {
     "iopub.execute_input": "2022-11-12T06:03:50.267907Z",
     "iopub.status.busy": "2022-11-12T06:03:50.266810Z",
     "iopub.status.idle": "2022-11-12T06:03:50.779675Z",
     "shell.execute_reply": "2022-11-12T06:03:50.778751Z",
     "shell.execute_reply.started": "2022-11-12T06:03:50.267861Z"
    },
    "trusted": true
   },
   "outputs": [
    {
     "data": {
      "image/png": "[encoded data removed]",
      "text/plain": [
       "<Figure size 1080x360 with 2 Axes>"
      ]
     },
     "metadata": {},
     "output_type": "display_data"
    }
   ],
   "source": [
    "plot_results(hist1)"
   ]
  },
  {
   "cell_type": "code",
   "execution_count": 97,
   "metadata": {
    "execution": {
     "iopub.execute_input": "2022-11-10T17:32:45.645930Z",
     "iopub.status.busy": "2022-11-10T17:32:45.645527Z",
     "iopub.status.idle": "2022-11-10T17:32:45.653404Z",
     "shell.execute_reply": "2022-11-10T17:32:45.652494Z",
     "shell.execute_reply.started": "2022-11-10T17:32:45.645897Z"
    },
    "trusted": true
   },
   "outputs": [],
   "source": [
    "import tqdm\n",
    "def testing(model,dataloader):\n",
    "    y_pred_list = []\n",
    "    y_true_list = []                     \n",
    "    with torch.no_grad():\n",
    "        for x_batch, y_batch in dataloader:\n",
    "            x_batch, y_batch = x_batch.to(device), y_batch.to(device)\n",
    "            y_test_pred = model(x_batch)\n",
    "            _, y_pred_tag = torch.max(y_test_pred, dim = 1)\n",
    "            y_pred_list.append(y_pred_tag.cpu().numpy())\n",
    "            y_true_list.append(y_batch.cpu().numpy())\n",
    "  #print(y_true_list[0])\n",
    "        y_pred_list = [i[0] for i in y_pred_list]\n",
    "        y_true_list = [i[0] for i in y_true_list]\n",
    "    return y_pred_list,y_true_list"
   ]
  },
  {
   "cell_type": "code",
   "execution_count": 98,
   "metadata": {
    "execution": {
     "iopub.execute_input": "2022-11-10T17:32:48.406624Z",
     "iopub.status.busy": "2022-11-10T17:32:48.405905Z",
     "iopub.status.idle": "2022-11-10T17:34:24.732282Z",
     "shell.execute_reply": "2022-11-10T17:34:24.731237Z",
     "shell.execute_reply.started": "2022-11-10T17:32:48.406554Z"
    },
    "trusted": true
   },
   "outputs": [],
   "source": [
    "train_preds,train_actual = testing(model,train_dl)\n",
    "test_preds,test_actual = testing(model,test_dl)"
   ]
  },
  {
   "cell_type": "code",
   "execution_count": 99,
   "metadata": {
    "execution": {
     "iopub.execute_input": "2022-11-10T17:34:24.767698Z",
     "iopub.status.busy": "2022-11-10T17:34:24.767224Z",
     "iopub.status.idle": "2022-11-10T17:34:24.781078Z",
     "shell.execute_reply": "2022-11-10T17:34:24.779883Z",
     "shell.execute_reply.started": "2022-11-10T17:34:24.767660Z"
    },
    "trusted": true
   },
   "outputs": [
    {
     "name": "stdout",
     "output_type": "stream",
     "text": [
      "              precision    recall  f1-score   support\n",
      "\n",
      "           0       1.00      1.00      1.00        39\n",
      "           1       1.00      1.00      1.00        35\n",
      "           2       1.00      1.00      1.00        17\n",
      "\n",
      "    accuracy                           1.00        91\n",
      "   macro avg       1.00      1.00      1.00        91\n",
      "weighted avg       1.00      1.00      1.00        91\n",
      "\n"
     ]
    }
   ],
   "source": [
    "print(classification_report(train_preds,train_actual))"
   ]
  },
  {
   "cell_type": "code",
   "execution_count": 100,
   "metadata": {
    "execution": {
     "iopub.execute_input": "2022-11-10T17:34:24.783089Z",
     "iopub.status.busy": "2022-11-10T17:34:24.782741Z",
     "iopub.status.idle": "2022-11-10T17:34:24.794913Z",
     "shell.execute_reply": "2022-11-10T17:34:24.793666Z",
     "shell.execute_reply.started": "2022-11-10T17:34:24.783047Z"
    },
    "trusted": true
   },
   "outputs": [
    {
     "name": "stdout",
     "output_type": "stream",
     "text": [
      "              precision    recall  f1-score   support\n",
      "\n",
      "           0       0.70      0.88      0.78         8\n",
      "           1       0.83      0.62      0.71        16\n",
      "           2       0.25      0.50      0.33         2\n",
      "\n",
      "    accuracy                           0.69        26\n",
      "   macro avg       0.59      0.67      0.61        26\n",
      "weighted avg       0.75      0.69      0.70        26\n",
      "\n"
     ]
    }
   ],
   "source": [
    "print(classification_report(test_preds,test_actual))"
   ]
  },
  {
   "cell_type": "code",
   "execution_count": 101,
   "metadata": {
    "execution": {
     "iopub.execute_input": "2022-11-10T17:34:24.796875Z",
     "iopub.status.busy": "2022-11-10T17:34:24.796355Z",
     "iopub.status.idle": "2022-11-10T17:34:25.152709Z",
     "shell.execute_reply": "2022-11-10T17:34:25.151792Z",
     "shell.execute_reply.started": "2022-11-10T17:34:24.796832Z"
    },
    "trusted": true
   },
   "outputs": [
    {
     "data": {
      "text/plain": [
       "Text(0.5, 257.44, 'Predicted label')"
      ]
     },
     "execution_count": 101,
     "metadata": {},
     "output_type": "execute_result"
    },
    {
     "data": {
      "image/png": "[encoded data removed]",
      "text/plain": [
       "<Figure size 432x288 with 2 Axes>"
      ]
     },
     "metadata": {},
     "output_type": "display_data"
    }
   ],
   "source": [
    "from sklearn.metrics import confusion_matrix\n",
    "cfm = confusion_matrix(train_preds,train_actual)\n",
    "class_names = ['0','1','2','3','4']\n",
    "fig, ax = plt.subplots()\n",
    "tick_marks = np.arange(len(class_names))\n",
    "plt.xticks(tick_marks,class_names)\n",
    "plt.yticks(tick_marks,class_names)\n",
    "sns.heatmap(pd.DataFrame(cfm),annot=True,cmap='CMRmap_r')\n",
    "ax.xaxis.set_label_position('top')\n",
    "plt.tight_layout()\n",
    "plt.title('Confusion matrix', y=1.1)\n",
    "plt.ylabel('Actual label')\n",
    "plt.xlabel('Predicted label')\n",
    "plt.Text(0.5,257.44,'Predicted label')"
   ]
  },
  {
   "cell_type": "code",
   "execution_count": 102,
   "metadata": {
    "execution": {
     "iopub.execute_input": "2022-11-10T17:34:42.206516Z",
     "iopub.status.busy": "2022-11-10T17:34:42.205943Z",
     "iopub.status.idle": "2022-11-10T17:34:42.542185Z",
     "shell.execute_reply": "2022-11-10T17:34:42.541374Z",
     "shell.execute_reply.started": "2022-11-10T17:34:42.206480Z"
    },
    "trusted": true
   },
   "outputs": [
    {
     "data": {
      "text/plain": [
       "Text(0.5, 257.44, 'Predicted label')"
      ]
     },
     "execution_count": 102,
     "metadata": {},
     "output_type": "execute_result"
    },
    {
     "data": {
      "image/png": "[encoded data removed]",
      "text/plain": [
       "<Figure size 432x288 with 2 Axes>"
      ]
     },
     "metadata": {},
     "output_type": "display_data"
    }
   ],
   "source": [
    "cfm = confusion_matrix(test_preds,test_actual)\n",
    "class_names = ['0','1','2','3','4']\n",
    "fig, ax = plt.subplots()\n",
    "tick_marks = np.arange(len(class_names))\n",
    "plt.xticks(tick_marks,class_names)\n",
    "plt.yticks(tick_marks,class_names)\n",
    "sns.heatmap(pd.DataFrame(cfm),annot=True,cmap='CMRmap_r')\n",
    "ax.xaxis.set_label_position('top')\n",
    "plt.tight_layout()\n",
    "plt.title('Confusion matrix', y=1.1)\n",
    "plt.ylabel('Actual label')\n",
    "plt.xlabel('Predicted label')\n",
    "plt.Text(0.5,257.44,'Predicted label')"
   ]
  }
 ],
 "metadata": {
  "kernelspec": {
   "display_name": "base",
   "language": "python",
   "name": "python3"
  },
  "language_info": {
   "codemirror_mode": {
    "name": "ipython",
    "version": 3
   },
   "file_extension": ".py",
   "mimetype": "text/x-python",
   "name": "python",
   "nbconvert_exporter": "python",
   "pygments_lexer": "ipython3",
   "version": "3.9.12"
  }
 },
 "nbformat": 4,
 "nbformat_minor": 4
}
